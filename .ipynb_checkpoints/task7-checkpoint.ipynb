{
 "cells": [
  {
   "cell_type": "markdown",
   "id": "eaddd461-fa2f-48f9-874b-026e26f6f199",
   "metadata": {},
   "source": [
    "# Get Basic Sales Summary from a Tiny SQLite Database using Python"
   ]
  },
  {
   "cell_type": "markdown",
   "id": "389dc0fe-3731-42c9-8c8a-a3cac28d7b6d",
   "metadata": {},
   "source": [
    "## Import libraries"
   ]
  },
  {
   "cell_type": "code",
   "execution_count": 1,
   "id": "f4b777a1-fd36-46c3-a014-13c9bc028b82",
   "metadata": {},
   "outputs": [],
   "source": [
    "import sqlite3\n",
    "import pandas as pd\n",
    "import matplotlib.pyplot as plt"
   ]
  },
  {
   "cell_type": "markdown",
   "id": "866e1bda-c509-466b-a2dd-44dfa16ed277",
   "metadata": {},
   "source": [
    "## Load CSV into pandas"
   ]
  },
  {
   "cell_type": "code",
   "execution_count": 3,
   "id": "722c01d5-1749-47cd-b8eb-55025fac9ee1",
   "metadata": {},
   "outputs": [
    {
     "data": {
      "text/html": [
       "<div>\n",
       "<style scoped>\n",
       "    .dataframe tbody tr th:only-of-type {\n",
       "        vertical-align: middle;\n",
       "    }\n",
       "\n",
       "    .dataframe tbody tr th {\n",
       "        vertical-align: top;\n",
       "    }\n",
       "\n",
       "    .dataframe thead th {\n",
       "        text-align: right;\n",
       "    }\n",
       "</style>\n",
       "<table border=\"1\" class=\"dataframe\">\n",
       "  <thead>\n",
       "    <tr style=\"text-align: right;\">\n",
       "      <th></th>\n",
       "      <th>id</th>\n",
       "      <th>sales_person</th>\n",
       "      <th>country</th>\n",
       "      <th>product</th>\n",
       "      <th>order_date</th>\n",
       "      <th>amount</th>\n",
       "      <th>boxes_shipped</th>\n",
       "    </tr>\n",
       "  </thead>\n",
       "  <tbody>\n",
       "    <tr>\n",
       "      <th>0</th>\n",
       "      <td>1</td>\n",
       "      <td>Jehu Rudeforth</td>\n",
       "      <td>UK</td>\n",
       "      <td>Mint Chip Choco</td>\n",
       "      <td>04-Jan-22</td>\n",
       "      <td>5320</td>\n",
       "      <td>180</td>\n",
       "    </tr>\n",
       "    <tr>\n",
       "      <th>1</th>\n",
       "      <td>2</td>\n",
       "      <td>Van Tuxwell</td>\n",
       "      <td>India</td>\n",
       "      <td>85% Dark Bars</td>\n",
       "      <td>01-Aug-22</td>\n",
       "      <td>7896</td>\n",
       "      <td>94</td>\n",
       "    </tr>\n",
       "    <tr>\n",
       "      <th>2</th>\n",
       "      <td>3</td>\n",
       "      <td>Gigi Bohling</td>\n",
       "      <td>India</td>\n",
       "      <td>Peanut Butter Cubes</td>\n",
       "      <td>07-Jul-22</td>\n",
       "      <td>4501</td>\n",
       "      <td>91</td>\n",
       "    </tr>\n",
       "    <tr>\n",
       "      <th>3</th>\n",
       "      <td>4</td>\n",
       "      <td>Jan Morforth</td>\n",
       "      <td>Australia</td>\n",
       "      <td>Peanut Butter Cubes</td>\n",
       "      <td>27-Apr-22</td>\n",
       "      <td>12726</td>\n",
       "      <td>342</td>\n",
       "    </tr>\n",
       "    <tr>\n",
       "      <th>4</th>\n",
       "      <td>5</td>\n",
       "      <td>Jehu Rudeforth</td>\n",
       "      <td>UK</td>\n",
       "      <td>Peanut Butter Cubes</td>\n",
       "      <td>24-Feb-22</td>\n",
       "      <td>13685</td>\n",
       "      <td>184</td>\n",
       "    </tr>\n",
       "  </tbody>\n",
       "</table>\n",
       "</div>"
      ],
      "text/plain": [
       "   id    sales_person    country              product order_date  amount  \\\n",
       "0   1  Jehu Rudeforth         UK      Mint Chip Choco  04-Jan-22    5320   \n",
       "1   2     Van Tuxwell      India        85% Dark Bars  01-Aug-22    7896   \n",
       "2   3    Gigi Bohling      India  Peanut Butter Cubes  07-Jul-22    4501   \n",
       "3   4    Jan Morforth  Australia  Peanut Butter Cubes  27-Apr-22   12726   \n",
       "4   5  Jehu Rudeforth         UK  Peanut Butter Cubes  24-Feb-22   13685   \n",
       "\n",
       "   boxes_shipped  \n",
       "0            180  \n",
       "1             94  \n",
       "2             91  \n",
       "3            342  \n",
       "4            184  "
      ]
     },
     "execution_count": 3,
     "metadata": {},
     "output_type": "execute_result"
    }
   ],
   "source": [
    "# Load CSV file\n",
    "csv_file = \"online_sales.csv\" \n",
    "df = pd.read_csv(csv_file)\n",
    "\n",
    "# Preview data\n",
    "df.head()"
   ]
  },
  {
   "cell_type": "markdown",
   "id": "7f2d3c65-154e-493e-96e6-9fdcc32c1d47",
   "metadata": {},
   "source": [
    "## Save CSV data into SQLite database"
   ]
  },
  {
   "cell_type": "code",
   "execution_count": 4,
   "id": "cc432cf5-e7cf-4cb9-9852-6384d453375f",
   "metadata": {},
   "outputs": [
    {
     "name": "stdout",
     "output_type": "stream",
     "text": [
      "Data inserted into SQLite database successfully!\n"
     ]
    }
   ],
   "source": [
    "# Connect to (or create) SQLite database\n",
    "conn = sqlite3.connect(\"sales_data.db\")\n",
    "\n",
    "# Save dataframe into \"sales\" table (replaces if already exists)\n",
    "df.to_sql(\"sales\", conn, if_exists=\"replace\", index=False)\n",
    "\n",
    "print(\"Data inserted into SQLite database successfully!\")"
   ]
  },
  {
   "cell_type": "markdown",
   "id": "dd507c2d-1c18-4bd9-921f-88c9eb189972",
   "metadata": {},
   "source": [
    "## Preview of CSV Data"
   ]
  },
  {
   "cell_type": "code",
   "execution_count": 5,
   "id": "daf0b198-d359-4af8-a55d-f41f840a9daa",
   "metadata": {},
   "outputs": [
    {
     "data": {
      "text/html": [
       "<div>\n",
       "<style scoped>\n",
       "    .dataframe tbody tr th:only-of-type {\n",
       "        vertical-align: middle;\n",
       "    }\n",
       "\n",
       "    .dataframe tbody tr th {\n",
       "        vertical-align: top;\n",
       "    }\n",
       "\n",
       "    .dataframe thead th {\n",
       "        text-align: right;\n",
       "    }\n",
       "</style>\n",
       "<table border=\"1\" class=\"dataframe\">\n",
       "  <thead>\n",
       "    <tr style=\"text-align: right;\">\n",
       "      <th></th>\n",
       "      <th>id</th>\n",
       "      <th>sales_person</th>\n",
       "      <th>country</th>\n",
       "      <th>product</th>\n",
       "      <th>order_date</th>\n",
       "      <th>amount</th>\n",
       "      <th>boxes_shipped</th>\n",
       "    </tr>\n",
       "  </thead>\n",
       "  <tbody>\n",
       "    <tr>\n",
       "      <th>0</th>\n",
       "      <td>1</td>\n",
       "      <td>Jehu Rudeforth</td>\n",
       "      <td>UK</td>\n",
       "      <td>Mint Chip Choco</td>\n",
       "      <td>04-Jan-22</td>\n",
       "      <td>5320</td>\n",
       "      <td>180</td>\n",
       "    </tr>\n",
       "    <tr>\n",
       "      <th>1</th>\n",
       "      <td>2</td>\n",
       "      <td>Van Tuxwell</td>\n",
       "      <td>India</td>\n",
       "      <td>85% Dark Bars</td>\n",
       "      <td>01-Aug-22</td>\n",
       "      <td>7896</td>\n",
       "      <td>94</td>\n",
       "    </tr>\n",
       "    <tr>\n",
       "      <th>2</th>\n",
       "      <td>3</td>\n",
       "      <td>Gigi Bohling</td>\n",
       "      <td>India</td>\n",
       "      <td>Peanut Butter Cubes</td>\n",
       "      <td>07-Jul-22</td>\n",
       "      <td>4501</td>\n",
       "      <td>91</td>\n",
       "    </tr>\n",
       "    <tr>\n",
       "      <th>3</th>\n",
       "      <td>4</td>\n",
       "      <td>Jan Morforth</td>\n",
       "      <td>Australia</td>\n",
       "      <td>Peanut Butter Cubes</td>\n",
       "      <td>27-Apr-22</td>\n",
       "      <td>12726</td>\n",
       "      <td>342</td>\n",
       "    </tr>\n",
       "    <tr>\n",
       "      <th>4</th>\n",
       "      <td>5</td>\n",
       "      <td>Jehu Rudeforth</td>\n",
       "      <td>UK</td>\n",
       "      <td>Peanut Butter Cubes</td>\n",
       "      <td>24-Feb-22</td>\n",
       "      <td>13685</td>\n",
       "      <td>184</td>\n",
       "    </tr>\n",
       "  </tbody>\n",
       "</table>\n",
       "</div>"
      ],
      "text/plain": [
       "   id    sales_person    country              product order_date  amount  \\\n",
       "0   1  Jehu Rudeforth         UK      Mint Chip Choco  04-Jan-22    5320   \n",
       "1   2     Van Tuxwell      India        85% Dark Bars  01-Aug-22    7896   \n",
       "2   3    Gigi Bohling      India  Peanut Butter Cubes  07-Jul-22    4501   \n",
       "3   4    Jan Morforth  Australia  Peanut Butter Cubes  27-Apr-22   12726   \n",
       "4   5  Jehu Rudeforth         UK  Peanut Butter Cubes  24-Feb-22   13685   \n",
       "\n",
       "   boxes_shipped  \n",
       "0            180  \n",
       "1             94  \n",
       "2             91  \n",
       "3            342  \n",
       "4            184  "
      ]
     },
     "execution_count": 5,
     "metadata": {},
     "output_type": "execute_result"
    }
   ],
   "source": [
    "df = pd.read_csv(\"online_sales.csv\")  # let pandas use the first row as headers\n",
    "df.head()"
   ]
  },
  {
   "cell_type": "markdown",
   "id": "46a26e49-8ac7-4284-8288-03312193f2c7",
   "metadata": {},
   "source": [
    "## Load CSV and create SQLite table"
   ]
  },
  {
   "cell_type": "code",
   "execution_count": 6,
   "id": "0a3aa1c2-b32d-40ee-9a3f-af37f9d90084",
   "metadata": {},
   "outputs": [
    {
     "name": "stdout",
     "output_type": "stream",
     "text": [
      "✅ Data loaded into sales_data.db\n"
     ]
    }
   ],
   "source": [
    "import sqlite3\n",
    "import pandas as pd\n",
    "\n",
    "# Load CSV (this time with headers automatically)\n",
    "df = pd.read_csv(\"online_sales.csv\")\n",
    "\n",
    "# Connect to database\n",
    "conn = sqlite3.connect(\"sales_data.db\")\n",
    "\n",
    "# Save dataframe into SQLite table\n",
    "df.to_sql(\"sales\", conn, if_exists=\"replace\", index=False)\n",
    "\n",
    "print(\"✅ Data loaded into sales_data.db\")"
   ]
  },
  {
   "cell_type": "markdown",
   "id": "f7f916c6-ca5d-47dc-9341-73fa2b92d651",
   "metadata": {},
   "source": [
    "## Summary by product"
   ]
  },
  {
   "cell_type": "code",
   "execution_count": 7,
   "id": "0cee5437-4196-4c96-8f49-12b5c44ce7db",
   "metadata": {},
   "outputs": [
    {
     "name": "stdout",
     "output_type": "stream",
     "text": [
      "=== Sales Summary ===\n",
      "                 product  total_qty  revenue\n",
      "0         50% Dark Bites       9792   341712\n",
      "1         70% Dark Bites       8015   211610\n",
      "2          85% Dark Bars       7793   299229\n",
      "3        99% Dark & Pure       8127   299796\n",
      "4            After Nines       8257   261331\n",
      "5           Almond Choco       6736   277536\n",
      "6    Baker's Choco Chips       6998   249613\n",
      "7   Caramel Stuffed Bars       8717   231588\n",
      "8   Choco Coated Almonds       6464   241486\n",
      "9          Drinking Coco       8660   256655\n",
      "10               Eclairs       8757   312445\n",
      "11      Fruit & Nut Bars       7738   259147\n",
      "12    Manuka Honey Choco       7781   275541\n",
      "13             Milk Bars       8330   269248\n",
      "14       Mint Chip Choco       8207   283969\n",
      "15          Orange Choco       7732   256144\n",
      "16   Organic Choco Syrup       7749   294700\n",
      "17   Peanut Butter Cubes       8304   324842\n",
      "18       Raspberry Choco       7115   264740\n",
      "19    Smooth Sliky Salty       8810   349692\n",
      "20   Spicy Special Slims       8685   293454\n",
      "21            White Choc       8240   329147\n"
     ]
    }
   ],
   "source": [
    "query = \"\"\"\n",
    "SELECT product,\n",
    "       SUM(boxes_shipped) AS total_qty,\n",
    "       SUM(amount) AS revenue\n",
    "FROM sales\n",
    "GROUP BY product\n",
    "\"\"\"\n",
    "sales_summary = pd.read_sql_query(query, conn)\n",
    "\n",
    "print(\"=== Sales Summary ===\")\n",
    "print(sales_summary)"
   ]
  },
  {
   "cell_type": "markdown",
   "id": "62ebadce-b1ca-4e44-b653-0989ce5f53dc",
   "metadata": {},
   "source": [
    "## Plot Bar Chart"
   ]
  },
  {
   "cell_type": "code",
   "execution_count": 11,
   "id": "0e6f2794-85c6-4655-bef0-2188d897108d",
   "metadata": {},
   "outputs": [
    {
     "data": {
      "image/png": "[encoded data removed]",
      "text/plain": [
       "<Figure size 1000x800 with 1 Axes>"
      ]
     },
     "metadata": {},
     "output_type": "display_data"
    }
   ],
   "source": [
    "sales_summary.plot(\n",
    "    kind='barh',\n",
    "    x='product',\n",
    "    y='revenue',\n",
    "    legend=False,\n",
    "    color='skyblue',\n",
    "    figsize=(10,8)\n",
    ")\n",
    "\n",
    "plt.title(\"Revenue by Product\")\n",
    "plt.xlabel(\"Revenue\")\n",
    "plt.ylabel(\"Product\")\n",
    "plt.tight_layout()\n",
    "plt.show()"
   ]
  },
  {
   "cell_type": "markdown",
   "id": "93265e6d-6ac3-4306-b0dd-5c4aa3546f73",
   "metadata": {},
   "source": [
    "## Close connection"
   ]
  },
  {
   "cell_type": "code",
   "execution_count": 12,
   "id": "50a7997b-d280-4fca-96b3-30d39f2d5f85",
   "metadata": {},
   "outputs": [],
   "source": [
    "conn.close()"
   ]
  },
  {
   "cell_type": "code",
   "execution_count": null,
   "id": "29f41a75-c47a-4190-be78-75153ea30f95",
   "metadata": {},
   "outputs": [],
   "source": []
  }
 ],
 "metadata": {
  "kernelspec": {
   "display_name": "Python 3 (ipykernel)",
   "language": "python",
   "name": "python3"
  },
  "language_info": {
   "codemirror_mode": {
    "name": "ipython",
    "version": 3
   },
   "file_extension": ".py",
   "mimetype": "text/x-python",
   "name": "python",
   "nbconvert_exporter": "python",
   "pygments_lexer": "ipython3",
   "version": "3.13.5"
  }
 },
 "nbformat": 4,
 "nbformat_minor": 5
}
